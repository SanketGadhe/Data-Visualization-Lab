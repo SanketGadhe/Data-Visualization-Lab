{
  "nbformat": 4,
  "nbformat_minor": 0,
  "metadata": {
    "colab": {
      "provenance": []
    },
    "kernelspec": {
      "name": "python3",
      "display_name": "Python 3"
    },
    "language_info": {
      "name": "python"
    }
  },
  "cells": [
    {
      "cell_type": "code",
      "execution_count": 2,
      "metadata": {
        "colab": {
          "base_uri": "https://localhost:8080/"
        },
        "id": "wZjpTbW1IJEM",
        "outputId": "ff480eeb-a6f7-4ad9-dce0-dfbcd80256de"
      },
      "outputs": [
        {
          "output_type": "stream",
          "name": "stdout",
          "text": [
            "     Name\n",
            "0  Sanket\n",
            "1   Gadhe\n"
          ]
        }
      ],
      "source": [
        "import pandas as pd\n",
        "df=pd.DataFrame({\n",
        "    'Name':['Sanket','Gadhe']\n",
        "})\n",
        "print(df)"
      ]
    },
    {
      "cell_type": "code",
      "source": [],
      "metadata": {
        "id": "5DCQQdaPIXF7"
      },
      "execution_count": null,
      "outputs": []
    }
  ]
}